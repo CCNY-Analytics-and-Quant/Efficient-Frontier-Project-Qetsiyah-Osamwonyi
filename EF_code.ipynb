{
 "cells": [
  {
   "cell_type": "markdown",
   "id": "d16b1343-1dc2-4d72-b73b-7ba06038ca68",
   "metadata": {
    "tags": []
   },
   "source": [
    "# Libraries"
   ]
  },
  {
   "cell_type": "code",
   "execution_count": 1,
   "id": "f4b1ac55-4861-4aee-9247-8710c856c0f2",
   "metadata": {
    "tags": []
   },
   "outputs": [],
   "source": [
    "import math\n",
    "import pandas as pd\n",
    "import numpy as np\n",
    "import datetime as dt\n",
    "import yfinance as yf\n",
    "import matplotlib.pyplot as plt\n",
    "import seaborn as sns\n",
    "import scipy.optimize as sco"
   ]
  },
  {
   "cell_type": "markdown",
   "id": "986ba4c0-13ca-4f6b-8a98-0a917d9abd99",
   "metadata": {
    "tags": []
   },
   "source": [
    "# Adding Assets and pulling historical data\n"
   ]
  },
  {
   "cell_type": "code",
   "execution_count": 2,
   "id": "aae7652c-44b7-4d81-b9b0-18db5f318b36",
   "metadata": {},
   "outputs": [
    {
     "name": "stdout",
     "output_type": "stream",
     "text": [
      "[*********************100%***********************]  7 of 7 completed\n"
     ]
    }
   ],
   "source": [
    "stocks=['AAPL','TSLA','MCD','KO','TMO','MMM','NKE']\n",
    "\n",
    "eD=dt.datetime.today()\n",
    "sD=eD-dt.timedelta(2*365)\n",
    "\n",
    "price=yf.download(stocks,\n",
    "                  period = '2y')['Adj Close'].pct_change()\n",
    "returns=price\n",
    "al=len(stocks)"
   ]
  },
  {
   "cell_type": "markdown",
   "id": "ccf6ec3e-750f-45c4-bfc0-548f82c56eb8",
   "metadata": {},
   "source": [
    "# Calculate the mean, variance, and correlation matrix for all assets"
   ]
  },
  {
   "cell_type": "code",
   "execution_count": 3,
   "id": "d78af073-0a6c-4001-9e28-4173c0f7dcfd",
   "metadata": {},
   "outputs": [],
   "source": [
    "class Tools:\n",
    "    def __init__(self,returns, assets):\n",
    "        self.returns = returns\n",
    "        self.assets = assets\n",
    " \n",
    "    def simpleComp(self):\n",
    "        self.tbl=pd.DataFrame(index=self.assets)\n",
    "        self.tbl['Mean']=returns.mean()\n",
    "        self.tbl['Variance']=returns.var()\n",
    "        return(self.tbl.T)\n",
    "   \n",
    "    def correlation(self):\n",
    "        self.tbl=pd.DataFrame(index=self.assets)\n",
    "        self.corr=returns.corr()\n",
    "        return(self.corr)"
   ]
  },
  {
   "cell_type": "code",
   "execution_count": 4,
   "id": "8a5f2828-099d-4a14-b794-a9652a4704b0",
   "metadata": {},
   "outputs": [
    {
     "data": {
      "text/html": [
       "<div>\n",
       "<style scoped>\n",
       "    .dataframe tbody tr th:only-of-type {\n",
       "        vertical-align: middle;\n",
       "    }\n",
       "\n",
       "    .dataframe tbody tr th {\n",
       "        vertical-align: top;\n",
       "    }\n",
       "\n",
       "    .dataframe thead th {\n",
       "        text-align: right;\n",
       "    }\n",
       "</style>\n",
       "<table border=\"1\" class=\"dataframe\">\n",
       "  <thead>\n",
       "    <tr style=\"text-align: right;\">\n",
       "      <th></th>\n",
       "      <th>Mean</th>\n",
       "      <th>Variance</th>\n",
       "    </tr>\n",
       "  </thead>\n",
       "  <tbody>\n",
       "    <tr>\n",
       "      <th>AAPL</th>\n",
       "      <td>0.000692</td>\n",
       "      <td>0.000372</td>\n",
       "    </tr>\n",
       "    <tr>\n",
       "      <th>TSLA</th>\n",
       "      <td>0.000871</td>\n",
       "      <td>0.001433</td>\n",
       "    </tr>\n",
       "    <tr>\n",
       "      <th>MCD</th>\n",
       "      <td>0.000629</td>\n",
       "      <td>0.000125</td>\n",
       "    </tr>\n",
       "    <tr>\n",
       "      <th>KO</th>\n",
       "      <td>0.000462</td>\n",
       "      <td>0.000123</td>\n",
       "    </tr>\n",
       "    <tr>\n",
       "      <th>TMO</th>\n",
       "      <td>0.000497</td>\n",
       "      <td>0.000316</td>\n",
       "    </tr>\n",
       "    <tr>\n",
       "      <th>MMM</th>\n",
       "      <td>-0.000352</td>\n",
       "      <td>0.000211</td>\n",
       "    </tr>\n",
       "    <tr>\n",
       "      <th>NKE</th>\n",
       "      <td>-0.000176</td>\n",
       "      <td>0.000473</td>\n",
       "    </tr>\n",
       "  </tbody>\n",
       "</table>\n",
       "</div>"
      ],
      "text/plain": [
       "          Mean  Variance\n",
       "AAPL  0.000692  0.000372\n",
       "TSLA  0.000871  0.001433\n",
       "MCD   0.000629  0.000125\n",
       "KO    0.000462  0.000123\n",
       "TMO   0.000497  0.000316\n",
       "MMM  -0.000352  0.000211\n",
       "NKE  -0.000176  0.000473"
      ]
     },
     "metadata": {},
     "output_type": "display_data"
    },
    {
     "data": {
      "text/html": [
       "<div>\n",
       "<style scoped>\n",
       "    .dataframe tbody tr th:only-of-type {\n",
       "        vertical-align: middle;\n",
       "    }\n",
       "\n",
       "    .dataframe tbody tr th {\n",
       "        vertical-align: top;\n",
       "    }\n",
       "\n",
       "    .dataframe thead th {\n",
       "        text-align: right;\n",
       "    }\n",
       "</style>\n",
       "<table border=\"1\" class=\"dataframe\">\n",
       "  <thead>\n",
       "    <tr style=\"text-align: right;\">\n",
       "      <th></th>\n",
       "      <th>AAPL</th>\n",
       "      <th>KO</th>\n",
       "      <th>MCD</th>\n",
       "      <th>MMM</th>\n",
       "      <th>NKE</th>\n",
       "      <th>TMO</th>\n",
       "      <th>TSLA</th>\n",
       "    </tr>\n",
       "  </thead>\n",
       "  <tbody>\n",
       "    <tr>\n",
       "      <th>AAPL</th>\n",
       "      <td>1.000000</td>\n",
       "      <td>0.403579</td>\n",
       "      <td>0.427726</td>\n",
       "      <td>0.357068</td>\n",
       "      <td>0.537372</td>\n",
       "      <td>0.495306</td>\n",
       "      <td>0.547750</td>\n",
       "    </tr>\n",
       "    <tr>\n",
       "      <th>KO</th>\n",
       "      <td>0.403579</td>\n",
       "      <td>1.000000</td>\n",
       "      <td>0.598267</td>\n",
       "      <td>0.456131</td>\n",
       "      <td>0.322273</td>\n",
       "      <td>0.298804</td>\n",
       "      <td>0.132634</td>\n",
       "    </tr>\n",
       "    <tr>\n",
       "      <th>MCD</th>\n",
       "      <td>0.427726</td>\n",
       "      <td>0.598267</td>\n",
       "      <td>1.000000</td>\n",
       "      <td>0.394747</td>\n",
       "      <td>0.356962</td>\n",
       "      <td>0.314691</td>\n",
       "      <td>0.215750</td>\n",
       "    </tr>\n",
       "    <tr>\n",
       "      <th>MMM</th>\n",
       "      <td>0.357068</td>\n",
       "      <td>0.456131</td>\n",
       "      <td>0.394747</td>\n",
       "      <td>1.000000</td>\n",
       "      <td>0.365996</td>\n",
       "      <td>0.229999</td>\n",
       "      <td>0.158550</td>\n",
       "    </tr>\n",
       "    <tr>\n",
       "      <th>NKE</th>\n",
       "      <td>0.537372</td>\n",
       "      <td>0.322273</td>\n",
       "      <td>0.356962</td>\n",
       "      <td>0.365996</td>\n",
       "      <td>1.000000</td>\n",
       "      <td>0.438955</td>\n",
       "      <td>0.369262</td>\n",
       "    </tr>\n",
       "    <tr>\n",
       "      <th>TMO</th>\n",
       "      <td>0.495306</td>\n",
       "      <td>0.298804</td>\n",
       "      <td>0.314691</td>\n",
       "      <td>0.229999</td>\n",
       "      <td>0.438955</td>\n",
       "      <td>1.000000</td>\n",
       "      <td>0.374349</td>\n",
       "    </tr>\n",
       "    <tr>\n",
       "      <th>TSLA</th>\n",
       "      <td>0.547750</td>\n",
       "      <td>0.132634</td>\n",
       "      <td>0.215750</td>\n",
       "      <td>0.158550</td>\n",
       "      <td>0.369262</td>\n",
       "      <td>0.374349</td>\n",
       "      <td>1.000000</td>\n",
       "    </tr>\n",
       "  </tbody>\n",
       "</table>\n",
       "</div>"
      ],
      "text/plain": [
       "          AAPL        KO       MCD       MMM       NKE       TMO      TSLA\n",
       "AAPL  1.000000  0.403579  0.427726  0.357068  0.537372  0.495306  0.547750\n",
       "KO    0.403579  1.000000  0.598267  0.456131  0.322273  0.298804  0.132634\n",
       "MCD   0.427726  0.598267  1.000000  0.394747  0.356962  0.314691  0.215750\n",
       "MMM   0.357068  0.456131  0.394747  1.000000  0.365996  0.229999  0.158550\n",
       "NKE   0.537372  0.322273  0.356962  0.365996  1.000000  0.438955  0.369262\n",
       "TMO   0.495306  0.298804  0.314691  0.229999  0.438955  1.000000  0.374349\n",
       "TSLA  0.547750  0.132634  0.215750  0.158550  0.369262  0.374349  1.000000"
      ]
     },
     "metadata": {},
     "output_type": "display_data"
    }
   ],
   "source": [
    "tls=Tools(returns=returns, assets=stocks)\n",
    "\n",
    "display(tls.simpleComp().T,tls.correlation())"
   ]
  },
  {
   "cell_type": "markdown",
   "id": "f13f50e5-aeb0-4281-9512-3203c885264a",
   "metadata": {},
   "source": [
    "# Monte Carlo Simulation to Calculate Efficient Frontier\n"
   ]
  },
  {
   "cell_type": "code",
   "execution_count": null,
   "id": "57c003b9-31b1-434c-ad66-821b9b4bce48",
   "metadata": {
    "tags": []
   },
   "outputs": [],
   "source": [
    "#portfolio returns\n",
    "def pR(w):\n",
    "    return np.sum(returns.mean() * w) * 252\n",
    "#portfolio volumes\n",
    "def pV(w):\n",
    "    return np.sqrt(np.dot(w.T, np.dot(returns.cov() * 252,w)))\n",
    "\n",
    "retCol = []\n",
    "volCol = []\n",
    "wei =[]\n",
    "\n",
    "for p in range (400000):\n",
    "    \n",
    "    weights = np.random.random(al)\n",
    "    weights /= np.sum(weights)\n",
    "    \n",
    "    wei.append(weights)\n",
    "    \n",
    "    retCol.append(pR(weights))\n",
    "    volCol.append(pV(weights))\n",
    "\n",
    "ER = np.array(retCol)\n",
    "EV = np.array(volCol)\n",
    "\n",
    "sharpe=(ER-0.02)/EV"
   ]
  },
  {
   "cell_type": "markdown",
   "id": "177bf4be-5961-47d5-afc9-17348555c2a1",
   "metadata": {},
   "source": [
    "# Graph"
   ]
  },
  {
   "cell_type": "code",
   "execution_count": null,
   "id": "312b236b-8bfd-486e-911c-48b0c98b7967",
   "metadata": {},
   "outputs": [],
   "source": [
    "plt.figure(figsize=(10,6 ))\n",
    "plt.scatter(EV, ER, c=sharpe,\n",
    "marker='.', cmap='coolwarm')\n",
    "plt.xlabel('expected volatility')\n",
    "plt.ylabel('expected return')\n",
    "plt.colorbar(label='Sharpe ratio');"
   ]
  },
  {
   "cell_type": "markdown",
   "id": "ff5f3b8f-fe0d-4eb3-80ab-0d43059bb711",
   "metadata": {},
   "source": [
    "# Display Optimals"
   ]
  },
  {
   "cell_type": "code",
   "execution_count": null,
   "id": "be96662a-e1cd-4fbe-b9cf-1123aff9340d",
   "metadata": {},
   "outputs": [],
   "source": [
    "tbl2=pd.DataFrame(columns=['Expected Return',\n",
    "                           'Volatility',\n",
    "                           'Optimal Sharpe Ratio'])\n",
    "tbl2['Expected Return']=ER\n",
    "tbl2['Volatility']=EV\n",
    "tbl2['Optimal Sharpe Ratio']=sharpe\n",
    "\n",
    "for counter, symbol in enumerate(returns.columns.tolist()):\n",
    "    tbl2[symbol + \"'s weight\"] = [w[counter] for w in wei]\n",
    "\n",
    "\n",
    "tbl2.set_index(\"Optimal Sharpe Ratio\", inplace=True)\n",
    "portfolios = pd.DataFrame(tbl2)\n",
    "tbl2F=portfolios.head().T\n",
    "tbl2F\n"
   ]
  },
  {
   "cell_type": "markdown",
   "id": "55b0da8f-ba30-4106-9e1b-21d00d2f3597",
   "metadata": {},
   "source": [
    "# Using Liner Regression to Calculate Efficient Frontier "
   ]
  },
  {
   "cell_type": "code",
   "execution_count": null,
   "id": "5e46bbb0-3e2a-4921-a995-1f9a1d04ea73",
   "metadata": {},
   "outputs": [],
   "source": [
    "def sharpeMinzd(w):\n",
    "    return -(pR(w)-.02) / pV(w)\n",
    "\n",
    "constraints = ({'type': 'eq', 'fun': lambda x: np.sum(x) - 1})\n",
    "bounds = tuple((0, 1) for x in range(al))\n",
    "eWV = np.array(al * [1. / al,])\n",
    "\n",
    "sharpeMinzd(eWV)                   "
   ]
  },
  {
   "cell_type": "code",
   "execution_count": null,
   "id": "8633bdb0-4ad9-4db4-9297-1849faf1f934",
   "metadata": {},
   "outputs": [],
   "source": [
    "sharpeOptimized=sco.minimize(sharpeMinzd,\n",
    "                             eWV,\n",
    "                             method='SLSQP',\n",
    "                             bounds=bounds,\n",
    "                             constraints=constraints)"
   ]
  },
  {
   "cell_type": "code",
   "execution_count": null,
   "id": "de234736-1b53-47f7-b014-48b2a1d75f19",
   "metadata": {},
   "outputs": [],
   "source": [
    "volOptimized=sco.minimize(pV,\n",
    "                             eWV,\n",
    "                             method='SLSQP',\n",
    "                             bounds=bounds,\n",
    "                             constraints=constraints)"
   ]
  },
  {
   "cell_type": "code",
   "execution_count": null,
   "id": "35614768-9c0b-459e-8fd8-26048cee566e",
   "metadata": {},
   "outputs": [],
   "source": [
    "cons = ({'type': 'eq', 'fun': lambda x: pR(x) - treturn},\n",
    "               {'type': 'eq', 'fun': lambda x: np.sum(x) - 1})\n",
    "bnds = tuple((0, 1) for x in weights)\n",
    "\n",
    "treturns = np.linspace(0.05, 0.2, 50)\n",
    "tvolatility = []\n",
    "\n",
    "for treturn in treturns:\n",
    "    res = sco.minimize(pV, eWV, method='SLSQP',\n",
    "                       bounds=bnds, \n",
    "                       constraints=cons)\n",
    "    tvolatility.append(res['fun'])\n",
    "tvolatility = np.array(tvolatility)"
   ]
  },
  {
   "cell_type": "markdown",
   "id": "a807d280-4260-4d2d-b196-99d4eb405327",
   "metadata": {},
   "source": [
    "### Optimal Portfolio Returns"
   ]
  },
  {
   "cell_type": "code",
   "execution_count": null,
   "id": "2cc2ea12-32da-43ef-be84-9038db680115",
   "metadata": {},
   "outputs": [],
   "source": [
    "\n",
    "OPR=pR(sharpeOptimized['x'])\n",
    "OPR.round(4)"
   ]
  },
  {
   "cell_type": "markdown",
   "id": "f1e31dc3-4f51-48fb-8c58-a04963c37b94",
   "metadata": {},
   "source": [
    "### Optimal Portfolio Volatility Weighting"
   ]
  },
  {
   "cell_type": "code",
   "execution_count": null,
   "id": "b295d563-7ffe-4c85-8aa8-2dccabc75534",
   "metadata": {},
   "outputs": [],
   "source": [
    "OPVW=pV(sharpeOptimized['x'])\n",
    "OPVW.round(4)"
   ]
  },
  {
   "cell_type": "markdown",
   "id": "b13f15dd-47c0-4b2d-8bfe-d508c94be89d",
   "metadata": {},
   "source": [
    "### Sharpe Ratio Maximized"
   ]
  },
  {
   "cell_type": "code",
   "execution_count": null,
   "id": "a47c6ed6-1219-4131-b127-38fecfc96d6a",
   "metadata": {},
   "outputs": [],
   "source": [
    "SRM=(OPR-0.02)/OPVW\n",
    "SRM.round(4)"
   ]
  },
  {
   "cell_type": "code",
   "execution_count": null,
   "id": "22e1762a-cf6e-45bc-8b00-d657f59cee6f",
   "metadata": {},
   "outputs": [],
   "source": [
    "plt.figure(figsize=(10, 6))\n",
    "plt.scatter(EV, ER, c=sharpe,marker='.', alpha=0.8, cmap='coolwarm')\n",
    "plt.plot(tvolatility, treturns, 'b', lw=4.0)\n",
    "plt.plot(pV(sharpeOptimized['x']), pR(sharpeOptimized['x']),\n",
    "         'y*', markersize=15.0)\n",
    "plt.plot(pV(volOptimized['x']), pR(volOptimized['x']),\n",
    "         'r*', markersize=15.0)\n",
    "plt.xlabel('expected volatility')\n",
    "plt.ylabel('expected return')\n",
    "plt.colorbar(label='Sharpe ratio')"
   ]
  },
  {
   "cell_type": "code",
   "execution_count": null,
   "id": "0209e54a-f1c3-469f-9360-1b1a3861f34c",
   "metadata": {},
   "outputs": [],
   "source": [
    "treturns.size"
   ]
  },
  {
   "cell_type": "code",
   "execution_count": null,
   "id": "a9ad46c9-8905-4618-91b7-6f2043e7d650",
   "metadata": {},
   "outputs": [],
   "source": [
    "tvolatility.size"
   ]
  },
  {
   "cell_type": "code",
   "execution_count": null,
   "id": "a7982e76-d32f-41ca-8b0e-805418abd482",
   "metadata": {},
   "outputs": [],
   "source": []
  },
  {
   "cell_type": "code",
   "execution_count": null,
   "id": "af06e286-9afd-4af9-96a6-90ba35983e2e",
   "metadata": {},
   "outputs": [],
   "source": []
  }
 ],
 "metadata": {
  "kernelspec": {
   "display_name": "Python 3 (ipykernel)",
   "language": "python",
   "name": "python3"
  },
  "language_info": {
   "codemirror_mode": {
    "name": "ipython",
    "version": 3
   },
   "file_extension": ".py",
   "mimetype": "text/x-python",
   "name": "python",
   "nbconvert_exporter": "python",
   "pygments_lexer": "ipython3",
   "version": "3.8.13"
  }
 },
 "nbformat": 4,
 "nbformat_minor": 5
}
