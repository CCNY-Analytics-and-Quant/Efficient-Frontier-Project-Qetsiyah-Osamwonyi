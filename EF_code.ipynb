{
 "cells": [
  {
   "cell_type": "markdown",
   "id": "d16b1343-1dc2-4d72-b73b-7ba06038ca68",
   "metadata": {
    "tags": []
   },
   "source": [
    "# Libraries"
   ]
  },
  {
   "cell_type": "code",
   "execution_count": 3,
   "id": "f4b1ac55-4861-4aee-9247-8710c856c0f2",
   "metadata": {
    "tags": []
   },
   "outputs": [
    {
     "ename": "SyntaxError",
     "evalue": "invalid syntax (3455506112.py, line 1)",
     "output_type": "error",
     "traceback": [
      "\u001b[1;36m  Cell \u001b[1;32mIn [3], line 1\u001b[1;36m\u001b[0m\n\u001b[1;33m    conda install Scripy\u001b[0m\n\u001b[1;37m          ^\u001b[0m\n\u001b[1;31mSyntaxError\u001b[0m\u001b[1;31m:\u001b[0m invalid syntax\n"
     ]
    }
   ],
   "source": [
    "conda install Scripy\n",
    "\n",
    "import pandas as pd\n",
    "import numpy as np\n",
    "import datetime as dt\n",
    "import yfinance as yf\n",
    "import matplotlib.pyplot as plt\n",
    "import seaborn as sns\n",
    "from pylab import mpl, plt\n",
    "import Scripy"
   ]
  },
  {
   "cell_type": "markdown",
   "id": "986ba4c0-13ca-4f6b-8a98-0a917d9abd99",
   "metadata": {
    "tags": []
   },
   "source": [
    "# Adding Assets and pulling historical data\n"
   ]
  },
  {
   "cell_type": "code",
   "execution_count": null,
   "id": "aae7652c-44b7-4d81-b9b0-18db5f318b36",
   "metadata": {},
   "outputs": [],
   "source": [
    "stocks=['AAPL','TSLA','MCD','KO','TMO','MMM','NKE']\n",
    "\n",
    "eD=dt.datetime.today()\n",
    "sD=eD-dt.timedelta(2*365)\n",
    "\n",
    "price=yf.download(stocks,\n",
    "                    start=sD,\n",
    "                    end=eD)['Adj Close']\n",
    "returns=price.pct_change().dropna()"
   ]
  },
  {
   "cell_type": "markdown",
   "id": "ccf6ec3e-750f-45c4-bfc0-548f82c56eb8",
   "metadata": {},
   "source": [
    "# Calculate the mean, variance, and correlation matrix for all assets"
   ]
  },
  {
   "cell_type": "code",
   "execution_count": null,
   "id": "d78af073-0a6c-4001-9e28-4173c0f7dcfd",
   "metadata": {},
   "outputs": [],
   "source": [
    "class Tools:\n",
    "    def __init__(self,returns, assets):\n",
    "        self.returns = returns\n",
    "        self.assets = assets\n",
    " \n",
    "    def simpleComp(self):\n",
    "        self.tbl=pd.DataFrame(index=self.assets)\n",
    "        self.tbl['Mean']=returns.mean()\n",
    "        self.tbl['Variance']=returns.var()\n",
    "        return(self.tbl.T)\n",
    "   \n",
    "    def correlation(self):\n",
    "        self.tbl=pd.DataFrame(index=self.assets)\n",
    "        self.corr=returns.corr().round(3)\n",
    "        return(self.corr)"
   ]
  },
  {
   "cell_type": "code",
   "execution_count": null,
   "id": "8a5f2828-099d-4a14-b794-a9652a4704b0",
   "metadata": {},
   "outputs": [],
   "source": [
    "tls=Tools(returns=returns, assets=stocks)\n",
    "tbl=tls.simpleComp()\n",
    "corr=tls.correlation()\n",
    "display(tbl,corr)"
   ]
  },
  {
   "cell_type": "markdown",
   "id": "a885dade-76cf-45aa-babe-f27dd93849df",
   "metadata": {},
   "source": [
    "# Merge Assets into Portfolio"
   ]
  },
  {
   "cell_type": "markdown",
   "id": "6470f9bf-e052-45de-88f7-690955f6a4cd",
   "metadata": {},
   "source": [
    "### ensure random weights equal 100%"
   ]
  },
  {
   "cell_type": "code",
   "execution_count": null,
   "id": "3a482553-6555-4739-9dd8-3ac9d6765218",
   "metadata": {},
   "outputs": [],
   "source": [
    "weights = np.random.random(len(stocks))\n",
    "weights /= np.sum(weights)\n",
    "weights"
   ]
  },
  {
   "cell_type": "code",
   "execution_count": null,
   "id": "b8b991bc-76d3-48e2-8d31-7a20ec472156",
   "metadata": {},
   "outputs": [],
   "source": [
    "weights.sum()"
   ]
  },
  {
   "cell_type": "markdown",
   "id": "f13f50e5-aeb0-4281-9512-3203c885264a",
   "metadata": {},
   "source": [
    "### now to annualize the portfolio returns based of randomized weights using the monte carlo simulation\n"
   ]
  },
  {
   "cell_type": "code",
   "execution_count": null,
   "id": "57c003b9-31b1-434c-ad66-821b9b4bce48",
   "metadata": {},
   "outputs": [],
   "source": [
    "#portfolio returns\n",
    "def pRet(weights):\n",
    "    return np.sum(returns.mean() * weights) * 252\n",
    "#portfolio volumes\n",
    "def pVol(weights):\n",
    "    return np.sqrt(np.dot(weights.T, np.dot(returns.cov() * 252,weights)))\n",
    "\n",
    "retCol = []\n",
    "volCol = []\n",
    "\n",
    "for p in range (1000):\n",
    "    weights = np.random.random(len(stocks))\n",
    "    weights /= np.sum(weights)\n",
    "    retCol.append(pRet(weights))\n",
    "    volCol.append(pVol(weights))\n",
    "\n",
    "retCol = np.array(retCol)\n",
    "volCol = np.array(volCol)"
   ]
  },
  {
   "cell_type": "code",
   "execution_count": null,
   "id": "79a85778-0705-42a7-a8a0-b5f3476053f6",
   "metadata": {},
   "outputs": [],
   "source": [
    "cons = ({'type': 'eq', 'fun': lambda x: port_ret(x) - tret},\n",
    "        {'type': 'eq', 'fun': lambda x: np.sum(x) - 1})\n",
    "bnds = tuple((0, 1) for x in weights)\n",
    "trets = np.linspace(0.05, 0.2, 50)\n",
    "tvols = []\n",
    "for tret in trets:\n",
    "    res = sco.minimize(port_vol, eweights, method='SLSQP',\n",
    "                       bounds=bnds, constraints=cons)\n",
    "    tvols.append(res['fun'])\n",
    "tvols = np.array(tvols)"
   ]
  },
  {
   "cell_type": "code",
   "execution_count": null,
   "id": "be96662a-e1cd-4fbe-b9cf-1123aff9340d",
   "metadata": {},
   "outputs": [],
   "source": []
  }
 ],
 "metadata": {
  "kernelspec": {
   "display_name": "Python 3 (ipykernel)",
   "language": "python",
   "name": "python3"
  },
  "language_info": {
   "codemirror_mode": {
    "name": "ipython",
    "version": 3
   },
   "file_extension": ".py",
   "mimetype": "text/x-python",
   "name": "python",
   "nbconvert_exporter": "python",
   "pygments_lexer": "ipython3",
   "version": "3.8.13"
  }
 },
 "nbformat": 4,
 "nbformat_minor": 5
}
